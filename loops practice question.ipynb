{
 "cells": [
  {
   "cell_type": "code",
   "execution_count": 63,
   "id": "14463026",
   "metadata": {},
   "outputs": [
    {
     "name": "stdout",
     "output_type": "stream",
     "text": [
      "1\n",
      "2\n",
      "3\n",
      "4\n",
      "5\n",
      "6\n",
      "7\n",
      "8\n",
      "9\n",
      "10\n",
      "11\n",
      "12\n",
      "13\n",
      "14\n",
      "15\n",
      "16\n",
      "17\n",
      "18\n",
      "19\n",
      "20\n",
      "21\n",
      "22\n",
      "23\n",
      "24\n",
      "25\n",
      "26\n",
      "27\n",
      "28\n",
      "29\n",
      "30\n",
      "31\n",
      "32\n",
      "33\n",
      "34\n",
      "35\n",
      "36\n",
      "37\n",
      "38\n",
      "39\n",
      "40\n",
      "41\n",
      "42\n",
      "43\n",
      "44\n",
      "45\n",
      "46\n",
      "47\n",
      "48\n",
      "49\n",
      "50\n",
      "51\n",
      "52\n",
      "53\n",
      "54\n",
      "55\n",
      "56\n",
      "57\n",
      "58\n",
      "59\n",
      "60\n",
      "61\n",
      "62\n",
      "63\n",
      "64\n",
      "65\n",
      "66\n",
      "67\n",
      "68\n",
      "69\n",
      "70\n",
      "71\n",
      "72\n",
      "73\n",
      "74\n",
      "75\n",
      "76\n",
      "77\n",
      "78\n",
      "79\n",
      "80\n",
      "81\n",
      "82\n",
      "83\n",
      "84\n",
      "85\n",
      "86\n",
      "87\n",
      "88\n",
      "89\n",
      "90\n",
      "91\n",
      "92\n",
      "93\n",
      "94\n",
      "95\n",
      "96\n",
      "97\n",
      "98\n",
      "99\n",
      "100\n"
     ]
    }
   ],
   "source": [
    "for i in range(1, 101):\n",
    "    print(i)"
   ]
  },
  {
   "cell_type": "code",
   "execution_count": 64,
   "id": "1076d723",
   "metadata": {},
   "outputs": [
    {
     "name": "stdout",
     "output_type": "stream",
     "text": [
      "2\n",
      "4\n",
      "6\n",
      "8\n",
      "10\n",
      "12\n",
      "14\n",
      "16\n",
      "18\n",
      "20\n"
     ]
    }
   ],
   "source": [
    "for i in range(2,22,2):\n",
    "    print(i)"
   ]
  },
  {
   "cell_type": "code",
   "execution_count": 65,
   "id": "59c90345",
   "metadata": {},
   "outputs": [
    {
     "name": "stdout",
     "output_type": "stream",
     "text": [
      "1 squared is 1\n",
      "2 squared is 4\n",
      "3 squared is 9\n",
      "4 squared is 16\n",
      "5 squared is 25\n"
     ]
    }
   ],
   "source": [
    "for i in range(1, 6):\n",
    "    print(f\"{i} squared is {i**2}\")\n"
   ]
  },
  {
   "cell_type": "code",
   "execution_count": 66,
   "id": "84c9f07e",
   "metadata": {},
   "outputs": [
    {
     "name": "stdout",
     "output_type": "stream",
     "text": [
      "Sum = 55\n"
     ]
    }
   ],
   "source": [
    "n = 10\n",
    "total = 0\n",
    "for i in range(1, n+1):\n",
    "    total += i\n",
    "print(\"Sum =\", total)"
   ]
  },
  {
   "cell_type": "code",
   "execution_count": 67,
   "id": "a3eeef51",
   "metadata": {},
   "outputs": [
    {
     "name": "stdout",
     "output_type": "stream",
     "text": [
      "A\n",
      "r\n",
      "e\n",
      "e\n",
      "b\n"
     ]
    }
   ],
   "source": [
    "text = \"Areeb\"\n",
    "for char in text:\n",
    "    print(char)"
   ]
  },
  {
   "cell_type": "code",
   "execution_count": 68,
   "id": "ab565346",
   "metadata": {},
   "outputs": [
    {
     "name": "stdout",
     "output_type": "stream",
     "text": [
      "beerA\n"
     ]
    }
   ],
   "source": [
    "text = \"Areeb\"\n",
    "reversed_text = \"\"\n",
    "for char in text:\n",
    "    reversed_text = char + reversed_text\n",
    "print(reversed_text)"
   ]
  },
  {
   "cell_type": "code",
   "execution_count": 69,
   "id": "c4a9ff0e",
   "metadata": {},
   "outputs": [
    {
     "name": "stdout",
     "output_type": "stream",
     "text": [
      "19 x 1 = 19\n",
      "19 x 2 = 38\n",
      "19 x 3 = 57\n",
      "19 x 4 = 76\n",
      "19 x 5 = 95\n",
      "19 x 6 = 114\n",
      "19 x 7 = 133\n",
      "19 x 8 = 152\n",
      "19 x 9 = 171\n",
      "19 x 10 = 190\n"
     ]
    }
   ],
   "source": [
    "n = 19\n",
    "for i in range(1, 11):\n",
    "    print(f\"{n} x {i} = {n * i}\")"
   ]
  },
  {
   "cell_type": "code",
   "execution_count": 70,
   "id": "1374ad72",
   "metadata": {},
   "outputs": [
    {
     "name": "stdout",
     "output_type": "stream",
     "text": [
      "487 is a prime number\n"
     ]
    }
   ],
   "source": [
    "num = 487\n",
    "is_prime = True\n",
    "\n",
    "for i in range(2, int(num**0.5) + 1):\n",
    "    if num % i == 0:\n",
    "        is_prime = False\n",
    "\n",
    "if is_prime and num > 1:\n",
    "    print(num, \"is a prime number\")\n",
    "else:\n",
    "    print(num, \"is not a prime number\")"
   ]
  },
  {
   "cell_type": "code",
   "execution_count": 91,
   "id": "1bebf30d",
   "metadata": {},
   "outputs": [
    {
     "name": "stdout",
     "output_type": "stream",
     "text": [
      "*\n",
      "**\n",
      "***\n",
      "****\n",
      "*****\n"
     ]
    }
   ],
   "source": [
    "for i in range(1, 6):\n",
    "    print('*' * i)"
   ]
  },
  {
   "cell_type": "code",
   "execution_count": 92,
   "id": "761846ad",
   "metadata": {},
   "outputs": [
    {
     "name": "stdout",
     "output_type": "stream",
     "text": [
      "Sum = 150\n"
     ]
    }
   ],
   "source": [
    "numbers = [10, 20, 30, 40, 50]\n",
    "total = 0\n",
    "for num in numbers:\n",
    "    total += num\n",
    "print(\"Sum =\", total)"
   ]
  },
  {
   "cell_type": "code",
   "execution_count": 93,
   "id": "231b3184",
   "metadata": {},
   "outputs": [
    {
     "name": "stdout",
     "output_type": "stream",
     "text": [
      "Factor = 720\n"
     ]
    }
   ],
   "source": [
    "num = 6\n",
    "factor = 1\n",
    "for i in range(1, num + 1):\n",
    "    factor *= i\n",
    "print(\"Factor =\", factor)"
   ]
  },
  {
   "cell_type": "code",
   "execution_count": 94,
   "id": "c87ac9e5",
   "metadata": {},
   "outputs": [
    {
     "name": "stdout",
     "output_type": "stream",
     "text": [
      "105\n",
      "140\n",
      "175\n"
     ]
    }
   ],
   "source": [
    "for i in range(100, 201):\n",
    "    if i % 5 == 0 and i % 7 == 0:\n",
    "        print(i)"
   ]
  },
  {
   "cell_type": "code",
   "execution_count": 95,
   "id": "333a69ec",
   "metadata": {},
   "outputs": [
    {
     "name": "stdout",
     "output_type": "stream",
     "text": [
      "120\n",
      "160\n",
      "200\n",
      "240\n",
      "280\n",
      "320\n",
      "360\n",
      "400\n"
     ]
    }
   ],
   "source": [
    "for i in range(100,401):\n",
    "    if i % 5 == 0 and i % 8 == 0:\n",
    "        print(i)"
   ]
  },
  {
   "cell_type": "code",
   "execution_count": 96,
   "id": "29b45ee9",
   "metadata": {},
   "outputs": [
    {
     "name": "stdout",
     "output_type": "stream",
     "text": [
      "126\n",
      "189\n",
      "252\n",
      "315\n",
      "378\n"
     ]
    }
   ],
   "source": [
    "for i in range(100, 401):\n",
    "    if i % 7 == 0 and i % 9 == 0:\n",
    "        print(i)"
   ]
  },
  {
   "cell_type": "code",
   "execution_count": 97,
   "id": "ff65d3ca",
   "metadata": {},
   "outputs": [],
   "source": [
    "#Print numbers from 50 to 1 in reverse order using a for loop.\n"
   ]
  },
  {
   "cell_type": "code",
   "execution_count": 98,
   "id": "b06ceccd",
   "metadata": {},
   "outputs": [
    {
     "name": "stdout",
     "output_type": "stream",
     "text": [
      "50\n",
      "49\n",
      "48\n",
      "47\n",
      "46\n",
      "45\n",
      "44\n",
      "43\n",
      "42\n",
      "41\n",
      "40\n",
      "39\n",
      "38\n",
      "37\n",
      "36\n",
      "35\n",
      "34\n",
      "33\n",
      "32\n",
      "31\n",
      "30\n",
      "29\n",
      "28\n",
      "27\n",
      "26\n",
      "25\n",
      "24\n",
      "23\n",
      "22\n",
      "21\n",
      "20\n",
      "19\n",
      "18\n",
      "17\n",
      "16\n",
      "15\n",
      "14\n",
      "13\n",
      "12\n",
      "11\n",
      "10\n",
      "9\n",
      "8\n",
      "7\n",
      "6\n",
      "5\n",
      "4\n",
      "3\n",
      "2\n",
      "1\n"
     ]
    }
   ],
   "source": [
    "for i in range(50,0,-1):\n",
    "    print(i)"
   ]
  },
  {
   "cell_type": "code",
   "execution_count": 99,
   "id": "177730e2",
   "metadata": {},
   "outputs": [],
   "source": [
    "#Given a string \"Python For Loop\", count how many vowels it has using a for loop."
   ]
  },
  {
   "cell_type": "code",
   "execution_count": 100,
   "id": "f1e0a5e7",
   "metadata": {},
   "outputs": [
    {
     "name": "stdout",
     "output_type": "stream",
     "text": [
      "number of nowels: 4\n"
     ]
    }
   ],
   "source": [
    "text=\"python for loop\"\n",
    "vowels=\"aeiouAEIOU\"\n",
    "count= 0\n",
    "for chr in text:\n",
    "    if chr in vowels:\n",
    "        count += 1\n",
    "print(\"number of nowels:\",count)"
   ]
  },
  {
   "cell_type": "code",
   "execution_count": 101,
   "id": "9b8ecaa8",
   "metadata": {},
   "outputs": [],
   "source": [
    "# Given a list of numbers [12, 45, 9, 8, 32, 17], print only the odd numbers using a for loop."
   ]
  },
  {
   "cell_type": "code",
   "execution_count": 102,
   "id": "0898699c",
   "metadata": {},
   "outputs": [
    {
     "name": "stdout",
     "output_type": "stream",
     "text": [
      "45\n",
      "9\n",
      "17\n"
     ]
    }
   ],
   "source": [
    "nums = [12, 45, 9, 8, 32, 17]\n",
    "for n in nums:\n",
    "    if n % 2 != 0:\n",
    "        print(n)"
   ]
  },
  {
   "cell_type": "code",
   "execution_count": 103,
   "id": "f5db424f",
   "metadata": {},
   "outputs": [],
   "source": [
    "#Print the sum of all even numbers between 1 and 100."
   ]
  },
  {
   "cell_type": "code",
   "execution_count": null,
   "id": "4ad1702c",
   "metadata": {},
   "outputs": [],
   "source": []
  },
  {
   "cell_type": "code",
   "execution_count": 110,
   "id": "dc706e3c",
   "metadata": {},
   "outputs": [
    {
     "name": "stdout",
     "output_type": "stream",
     "text": [
      "sum = 2550\n"
     ]
    }
   ],
   "source": [
    "total = 0\n",
    "for i in range(2, 101, 2):\n",
    "    total += i\n",
    "print(\"sum =\",total )\n"
   ]
  },
  {
   "cell_type": "code",
   "execution_count": 111,
   "id": "ae19356e",
   "metadata": {},
   "outputs": [],
   "source": [
    "# print even number till 50 "
   ]
  },
  {
   "cell_type": "code",
   "execution_count": 108,
   "id": "786c7e39",
   "metadata": {},
   "outputs": [
    {
     "name": "stdout",
     "output_type": "stream",
     "text": [
      "2\n",
      "4\n",
      "6\n",
      "8\n",
      "10\n",
      "12\n",
      "14\n",
      "16\n",
      "18\n",
      "20\n",
      "22\n",
      "24\n",
      "26\n",
      "28\n",
      "30\n",
      "32\n",
      "34\n",
      "36\n",
      "38\n",
      "40\n",
      "42\n",
      "44\n",
      "46\n",
      "48\n",
      "50\n"
     ]
    }
   ],
   "source": [
    "for i in range(1, 51):\n",
    "    if i % 2 == 0:\n",
    "        print(i)"
   ]
  },
  {
   "cell_type": "code",
   "execution_count": 115,
   "id": "cf25e9ef",
   "metadata": {},
   "outputs": [],
   "source": [
    "#Print numbers from 1 to 20, but skip (don’t print) numbers divisible by 4."
   ]
  },
  {
   "cell_type": "code",
   "execution_count": 120,
   "id": "0c5746a7",
   "metadata": {},
   "outputs": [
    {
     "name": "stdout",
     "output_type": "stream",
     "text": [
      "1\n",
      "2\n",
      "3\n",
      "5\n",
      "6\n",
      "7\n",
      "9\n",
      "10\n",
      "11\n",
      "13\n",
      "14\n",
      "15\n",
      "17\n",
      "18\n",
      "19\n"
     ]
    }
   ],
   "source": [
    "for i in range(1, 21):\n",
    "    if i % 4 == 0:\n",
    "     continue\n",
    "    print(i)"
   ]
  },
  {
   "cell_type": "code",
   "execution_count": 1,
   "id": "284e6fb8",
   "metadata": {},
   "outputs": [],
   "source": [
    "#Print numbers from 1 to 10 using a while loop."
   ]
  },
  {
   "cell_type": "code",
   "execution_count": 2,
   "id": "f17671f8",
   "metadata": {},
   "outputs": [
    {
     "name": "stdout",
     "output_type": "stream",
     "text": [
      "1\n",
      "2\n",
      "3\n",
      "4\n",
      "5\n",
      "6\n",
      "7\n",
      "8\n",
      "9\n",
      "10\n"
     ]
    }
   ],
   "source": [
    "i = 1\n",
    "while i <= 10:\n",
    "    print(i)\n",
    "    i += 1"
   ]
  },
  {
   "cell_type": "code",
   "execution_count": 3,
   "id": "718d1e3f",
   "metadata": {},
   "outputs": [],
   "source": [
    "#Print numbers from 10 down to 1 in reverse counting."
   ]
  },
  {
   "cell_type": "code",
   "execution_count": 4,
   "id": "1725bb66",
   "metadata": {},
   "outputs": [
    {
     "name": "stdout",
     "output_type": "stream",
     "text": [
      "10\n",
      "9\n",
      "8\n",
      "7\n",
      "6\n",
      "5\n",
      "4\n",
      "3\n",
      "2\n",
      "1\n"
     ]
    }
   ],
   "source": [
    "i = 10\n",
    "while i >= 1:\n",
    "    print(i)\n",
    "    i -= 1"
   ]
  },
  {
   "cell_type": "code",
   "execution_count": 5,
   "id": "c34ba2d4",
   "metadata": {},
   "outputs": [],
   "source": [
    "#Find the sum of numbers from 1 to 100 using a while loop."
   ]
  },
  {
   "cell_type": "code",
   "execution_count": 6,
   "id": "ac1c4870",
   "metadata": {},
   "outputs": [
    {
     "name": "stdout",
     "output_type": "stream",
     "text": [
      "Sum = 5050\n"
     ]
    }
   ],
   "source": [
    "i = 1\n",
    "total = 0\n",
    "while i <= 100:\n",
    "    total += i\n",
    "    i += 1\n",
    "print(\"Sum =\", total)"
   ]
  },
  {
   "cell_type": "code",
   "execution_count": 7,
   "id": "1de84a58",
   "metadata": {},
   "outputs": [],
   "source": [
    "#Print only even numbers between 1 and 20 using a while loop"
   ]
  },
  {
   "cell_type": "code",
   "execution_count": 8,
   "id": "792dab21",
   "metadata": {},
   "outputs": [
    {
     "name": "stdout",
     "output_type": "stream",
     "text": [
      "2\n",
      "4\n",
      "6\n",
      "8\n",
      "10\n",
      "12\n",
      "14\n",
      "16\n",
      "18\n",
      "20\n"
     ]
    }
   ],
   "source": [
    "i = 1\n",
    "while i <= 20:\n",
    "    if i % 2 == 0:\n",
    "        print(i)\n",
    "    i += 1"
   ]
  },
  {
   "cell_type": "code",
   "execution_count": 9,
   "id": "693d3848",
   "metadata": {},
   "outputs": [],
   "source": [
    "#Print the multiplication table of 7 using a while loop"
   ]
  },
  {
   "cell_type": "code",
   "execution_count": 10,
   "id": "f335cb7b",
   "metadata": {},
   "outputs": [
    {
     "name": "stdout",
     "output_type": "stream",
     "text": [
      "7 x 1 = 7\n",
      "7 x 2 = 14\n",
      "7 x 3 = 21\n",
      "7 x 4 = 28\n",
      "7 x 5 = 35\n",
      "7 x 6 = 42\n",
      "7 x 7 = 49\n",
      "7 x 8 = 56\n",
      "7 x 9 = 63\n",
      "7 x 10 = 70\n"
     ]
    }
   ],
   "source": [
    "i = 1\n",
    "while i <= 10:\n",
    "    print(f\"7 x {i} = {7 * i}\")\n",
    "    i += 1"
   ]
  },
  {
   "cell_type": "code",
   "execution_count": 11,
   "id": "39e68b09",
   "metadata": {},
   "outputs": [],
   "source": [
    "#Reverse the digits of a number"
   ]
  },
  {
   "cell_type": "code",
   "execution_count": 13,
   "id": "6db4e3fa",
   "metadata": {},
   "outputs": [
    {
     "name": "stdout",
     "output_type": "stream",
     "text": [
      "Reversed = 9871259\n"
     ]
    }
   ],
   "source": [
    "num = 9521789\n",
    "rev = 0\n",
    "while num > 0:\n",
    "    digit = num % 10\n",
    "    rev = rev * 10 + digit\n",
    "    num //= 10\n",
    "print(\"Reversed =\", rev)"
   ]
  },
  {
   "cell_type": "code",
   "execution_count": 14,
   "id": "a5121ce8",
   "metadata": {},
   "outputs": [],
   "source": [
    "#Count the number of digits in a number."
   ]
  },
  {
   "cell_type": "code",
   "execution_count": 16,
   "id": "551d424a",
   "metadata": {},
   "outputs": [
    {
     "name": "stdout",
     "output_type": "stream",
     "text": [
      "Number of digits = 24\n"
     ]
    }
   ],
   "source": [
    "num = 185484516484515484515458\n",
    "count = 0\n",
    "while num > 0:\n",
    "    num //= 10\n",
    "    count += 1\n",
    "print(\"Number of digits =\", count)"
   ]
  },
  {
   "cell_type": "code",
   "execution_count": 17,
   "id": "703748ae",
   "metadata": {},
   "outputs": [],
   "source": [
    "#Print all numbers from 1 to 50 that are divisible by 5"
   ]
  },
  {
   "cell_type": "code",
   "execution_count": 18,
   "id": "6320950a",
   "metadata": {},
   "outputs": [
    {
     "name": "stdout",
     "output_type": "stream",
     "text": [
      "5\n",
      "10\n",
      "15\n",
      "20\n",
      "25\n",
      "30\n",
      "35\n",
      "40\n",
      "45\n",
      "50\n"
     ]
    }
   ],
   "source": [
    "i = 1\n",
    "while i <= 50:\n",
    "    if i % 5 == 0:\n",
    "        print(i)\n",
    "    i += 1"
   ]
  },
  {
   "cell_type": "code",
   "execution_count": 19,
   "id": "e49c1e60",
   "metadata": {},
   "outputs": [],
   "source": [
    "#Ask the user to enter numbers repeatedly until they enter 0, then print the total sum"
   ]
  },
  {
   "cell_type": "code",
   "execution_count": 20,
   "id": "f55238f9",
   "metadata": {},
   "outputs": [
    {
     "name": "stdout",
     "output_type": "stream",
     "text": [
      "Total sum = 3441\n"
     ]
    }
   ],
   "source": [
    "total = 0\n",
    "num = int(input(\"Enter a number (0 to stop): \"))\n",
    "while num != 0:\n",
    "    total += num\n",
    "    num = int(input(\"Enter a number (0 to stop): \"))\n",
    "print(\"Total sum =\", total)"
   ]
  },
  {
   "cell_type": "code",
   "execution_count": 24,
   "id": "9f0f47d7",
   "metadata": {},
   "outputs": [],
   "source": [
    "#Print numbers from 1 to 20, but skip numbers divisible by 3."
   ]
  },
  {
   "cell_type": "code",
   "execution_count": 25,
   "id": "1fd02b0f",
   "metadata": {},
   "outputs": [
    {
     "name": "stdout",
     "output_type": "stream",
     "text": [
      "1\n",
      "2\n",
      "4\n",
      "5\n",
      "7\n",
      "8\n",
      "10\n",
      "11\n",
      "13\n",
      "14\n",
      "16\n",
      "17\n",
      "19\n",
      "20\n"
     ]
    }
   ],
   "source": [
    "i = 1\n",
    "while i <= 20:\n",
    "    if i % 3 == 0:\n",
    "        i += 1\n",
    "        continue\n",
    "    print(i)\n",
    "    i += 1"
   ]
  },
  {
   "cell_type": "code",
   "execution_count": 26,
   "id": "960a319a",
   "metadata": {},
   "outputs": [],
   "source": [
    "#Print all numbers from 1 to 50, but only print even numbers."
   ]
  },
  {
   "cell_type": "code",
   "execution_count": 27,
   "id": "d2cb0e29",
   "metadata": {},
   "outputs": [
    {
     "name": "stdout",
     "output_type": "stream",
     "text": [
      "2\n",
      "4\n",
      "6\n",
      "8\n",
      "10\n",
      "12\n",
      "14\n",
      "16\n",
      "18\n",
      "20\n",
      "22\n",
      "24\n",
      "26\n",
      "28\n",
      "30\n",
      "32\n",
      "34\n",
      "36\n",
      "38\n",
      "40\n",
      "42\n",
      "44\n",
      "46\n",
      "48\n",
      "50\n"
     ]
    }
   ],
   "source": [
    "i = 1\n",
    "while i <= 50:\n",
    "    if i % 2 == 0:\n",
    "        print(i)\n",
    "    i += 1"
   ]
  },
  {
   "cell_type": "code",
   "execution_count": null,
   "id": "a07e33dc",
   "metadata": {},
   "outputs": [],
   "source": [
    "\n"
   ]
  }
 ],
 "metadata": {
  "kernelspec": {
   "display_name": "Python 3",
   "language": "python",
   "name": "python3"
  },
  "language_info": {
   "codemirror_mode": {
    "name": "ipython",
    "version": 3
   },
   "file_extension": ".py",
   "mimetype": "text/x-python",
   "name": "python",
   "nbconvert_exporter": "python",
   "pygments_lexer": "ipython3",
   "version": "3.13.7"
  }
 },
 "nbformat": 4,
 "nbformat_minor": 5
}
