{
 "cells": [
  {
   "cell_type": "code",
   "execution_count": 69,
   "id": "611731fc",
   "metadata": {},
   "outputs": [
    {
     "name": "stdout",
     "output_type": "stream",
     "text": [
      "hello world\n",
      "5\n"
     ]
    }
   ],
   "source": [
    "print (\"hello world\")\n",
    "print (5)"
   ]
  },
  {
   "cell_type": "code",
   "execution_count": null,
   "id": "d6d252a3",
   "metadata": {},
   "outputs": [
    {
     "name": "stdout",
     "output_type": "stream",
     "text": [
      "Escape Sequences & Print Statemen\n"
     ]
    }
   ],
   "source": [
    "print  (\"Escape Sequences & Print Statement\\b\")"
   ]
  },
  {
   "cell_type": "code",
   "execution_count": null,
   "id": "12afb8c5",
   "metadata": {},
   "outputs": [
    {
     "name": "stdout",
     "output_type": "stream",
     "text": [
      "he is a good boy\n",
      " and I am also good boy\n"
     ]
    }
   ],
   "source": [
    "print (\"he is a good boy\\n and I am also good boy\")"
   ]
  },
  {
   "cell_type": "code",
   "execution_count": null,
   "id": "d63619ee",
   "metadata": {},
   "outputs": [
    {
     "name": "stdout",
     "output_type": "stream",
     "text": [
      "Variables and Data Types\n"
     ]
    }
   ],
   "source": [
    " print (\"Variables and Data Types\")"
   ]
  },
  {
   "cell_type": "code",
   "execution_count": null,
   "id": "f898e682",
   "metadata": {},
   "outputs": [],
   "source": [
    "a = 151518451648548454454"
   ]
  },
  {
   "cell_type": "code",
   "execution_count": null,
   "id": "58778ba3",
   "metadata": {},
   "outputs": [
    {
     "name": "stdout",
     "output_type": "stream",
     "text": [
      "151518451648548454454\n"
     ]
    }
   ],
   "source": [
    "print (a)"
   ]
  },
  {
   "cell_type": "code",
   "execution_count": null,
   "id": "3d081d8c",
   "metadata": {},
   "outputs": [],
   "source": [
    "b = \"areeb\""
   ]
  },
  {
   "cell_type": "code",
   "execution_count": null,
   "id": "e465d852",
   "metadata": {},
   "outputs": [
    {
     "name": "stdout",
     "output_type": "stream",
     "text": [
      "areeb\n"
     ]
    }
   ],
   "source": [
    "print (b)"
   ]
  },
  {
   "cell_type": "code",
   "execution_count": null,
   "id": "ab7eb92c",
   "metadata": {},
   "outputs": [
    {
     "name": "stdout",
     "output_type": "stream",
     "text": [
      "15\n",
      "-5\n",
      "50\n",
      "0.5\n",
      "0\n",
      "5\n",
      "9765625\n"
     ]
    }
   ],
   "source": [
    "print(5+10)\n",
    "print(5-10)\n",
    "print(5*10)\n",
    "print(5/10)\n",
    "print(5//10)\n",
    "print(5%10)\n",
    "print(5**10)\n"
   ]
  },
  {
   "cell_type": "code",
   "execution_count": null,
   "id": "19b7ec81",
   "metadata": {},
   "outputs": [
    {
     "ename": "ValueError",
     "evalue": "invalid literal for int() with base 10: ''",
     "output_type": "error",
     "traceback": [
      "\u001b[31m---------------------------------------------------------------------------\u001b[39m",
      "\u001b[31mValueError\u001b[39m                                Traceback (most recent call last)",
      "\u001b[36mCell\u001b[39m\u001b[36m \u001b[39m\u001b[32mIn[67]\u001b[39m\u001b[32m, line 1\u001b[39m\n\u001b[32m----> \u001b[39m\u001b[32m1\u001b[39m subject1 = \u001b[38;5;28;43mint\u001b[39;49m\u001b[43m(\u001b[49m\u001b[38;5;28;43minput\u001b[39;49m\u001b[43m(\u001b[49m\u001b[33;43m\"\u001b[39;49m\u001b[33;43msubject 1:\u001b[39;49m\u001b[33;43m\"\u001b[39;49m\u001b[43m)\u001b[49m\u001b[43m)\u001b[49m\n\u001b[32m      2\u001b[39m subject2 = \u001b[38;5;28mint\u001b[39m(\u001b[38;5;28minput\u001b[39m(\u001b[33m\"\u001b[39m\u001b[33msubject 2:\u001b[39m\u001b[33m\"\u001b[39m))\n\u001b[32m      3\u001b[39m subject3 = \u001b[38;5;28mint\u001b[39m(\u001b[38;5;28minput\u001b[39m(\u001b[33m\"\u001b[39m\u001b[33msubject 3:\u001b[39m\u001b[33m\"\u001b[39m))\n",
      "\u001b[31mValueError\u001b[39m: invalid literal for int() with base 10: ''"
     ]
    }
   ],
   "source": [
    "subject1 = int(input(\"subject 1:\"))\n",
    "subject2 = int(input(\"subject 2:\"))\n",
    "subject3 = int(input(\"subject 3:\"))\n",
    "subject4 = int(input(\"subject 4:\"))\n",
    "subject5 = int(input(\"subject 5:\"))\n",
    "\n",
    "total_marks_obtained = subject1 + subject2 + subject3 + subject4 +subject5\n",
    "total_maximum_marks = 5 * 100\n",
    "percentage = (total_marks_obtained / total_maximum_marks) * 100\n",
    "\n",
    "print(f\"\\ntotalmarks obtained: {total_marks_obtained}\")\n",
    "print(f\"percentage: {percentage:.2f}%\")\n",
    "new_percent = int(percentage)\n",
    "print(new_percent)\n",
    "\n",
    "if(new_percent >= 90):\n",
    "    print(\"you get A+ grade\")\n",
    "elif(new_percent >= 80):\n",
    "    print(new_percent)\n",
    "    print(\" you get an A grade\")\n",
    "elif(new_percent >= 70):\n",
    "    print(\"you get and B+ grade\")\n",
    "elif(new_percent >= 60):\n",
    "    print(\"you get an B grade\")\n",
    "elif(new_percent >= 50):\n",
    "    print(\" you get an C geade\")\n",
    "elif(new_percent >= 40):\n",
    "    print(\"you get an D grade\")\n",
    "else: \n",
    "    print(\" sorry you got failed\")"
   ]
  },
  {
   "cell_type": "code",
   "execution_count": null,
   "id": "a0304a80",
   "metadata": {},
   "outputs": [
    {
     "name": "stdout",
     "output_type": "stream",
     "text": [
      "A\n",
      "B\n",
      "C\n",
      "D\n"
     ]
    }
   ],
   "source": [
    "if (\"per >=90\"):\n",
    " print(\"A\") \n",
    "if (\" per >80 and <= 90\"):\n",
    "    print(\"B\") \n",
    "if  (\"per =>60 and =<80\"):\n",
    "        print(\"C\")\n",
    "if (\"per below 60\"):\n",
    " print (\"D\")"
   ]
  },
  {
   "cell_type": "code",
   "execution_count": null,
   "id": "9becb4d0",
   "metadata": {},
   "outputs": [
    {
     "name": "stdout",
     "output_type": "stream",
     "text": [
      "even number\n"
     ]
    }
   ],
   "source": [
    "num = int(input(\"enter number\"))\n",
    "if num % 2==0:\n",
    "    print(\"even number\")\n",
    "else:\n",
    "    print(\"odd number\")"
   ]
  },
  {
   "cell_type": "code",
   "execution_count": null,
   "id": "55c4669c",
   "metadata": {},
   "outputs": [
    {
     "name": "stdout",
     "output_type": "stream",
     "text": [
      "you are a child\n"
     ]
    }
   ],
   "source": [
    "a=int(input(\"enter your age:\"))\n",
    "    \n",
    "if (a < 10):\n",
    "    print(\"you are a child\")\n",
    "elif (a < 20):\n",
    "    print(\"you are teenager\")\n",
    "elif (a < 40):\n",
    "    \n",
    "    print(\"you are an adult\")\n",
    "else:\n",
    "    print(\"you are eligible for vote\")"
   ]
  },
  {
   "cell_type": "code",
   "execution_count": null,
   "id": "cd0762b1",
   "metadata": {},
   "outputs": [
    {
     "name": "stdout",
     "output_type": "stream",
     "text": [
      "Create your account\n",
      "Account created successfully!\n",
      "\n",
      "login(username, password)\n",
      "Login to your account\n",
      "Login failed! Incorrect username or password.\n"
     ]
    }
   ],
   "source": [
    "print(\"Create your account\")\n",
    "username = input(\"Enter username: \")\n",
    "password =input(\"Enter password: \")\n",
    "print(\"Account created successfully!\\n\")\n",
    "print(\"login(username, password)\")\n",
    "print(\"Login to your account\")\n",
    "entered_username = input(\"Enter username: \")\n",
    "entered_password = input (\"Enter password: \")\n",
    "if entered_username == username and entered_password == password:\n",
    "    print(\"Login successful! Welcome,\", entered_username)\n",
    "else:\n",
    "    print(\"Login failed! Incorrect username or password.\")"
   ]
  },
  {
   "cell_type": "code",
   "execution_count": null,
   "id": "ff9180cd",
   "metadata": {},
   "outputs": [
    {
     "ename": "SyntaxError",
     "evalue": "invalid syntax (2987116373.py, line 20)",
     "output_type": "error",
     "traceback": [
      "  \u001b[36mCell\u001b[39m\u001b[36m \u001b[39m\u001b[32mIn[54]\u001b[39m\u001b[32m, line 20\u001b[39m\n\u001b[31m    \u001b[39m\u001b[31melif (b /= 0):\u001b[39m\n            ^\n\u001b[31mSyntaxError\u001b[39m\u001b[31m:\u001b[39m invalid syntax\n"
     ]
    }
   ],
   "source": [
    "\n",
    "a=int(input(\"enter num1\"))\n",
    "b=int(input(\"enter num2\"))\n",
    "oprater=str(input(\"enter oprater\"))\n",
    "if( oprater == \"+\" ):\n",
    "    result= a + b\n",
    "    print(result)\n",
    "elif(oprater == \"-\"):\n",
    "    result= a - b \n",
    "    print(result)\n",
    "elif(oprater ==\"*\"):\n",
    "    result=a * b\n",
    "    print(result)\n",
    "elif(oprater == \"/\"):\n",
    "    if(b == 0):\n",
    "        print(\"infinite\")\n",
    "    elif (b /= 0):\n",
    "        print(Result)\n",
    "    result= a / b\n",
    "    print(result)"
   ]
  },
  {
   "cell_type": "code",
   "execution_count": null,
   "id": "ae131830",
   "metadata": {},
   "outputs": [],
   "source": [
    "#4. ATM Withdrawal\n",
    "#Write a program that simulates an ATM machine:\n",
    "#Ask the user for a withdrawal amount.\n",
    "#If the amount is divisible by 5 and does not exceed the account balance (e.g., 10,000), deduct it.\n",
    "#Else if the amount is not divisible by 5, print “Enter amount in multiples of 5.”\n",
    "#Else if the balance is insufficient, print “Insufficient Balance.a"
   ]
  },
  {
   "cell_type": "code",
   "execution_count": 5,
   "id": "b531015a",
   "metadata": {},
   "outputs": [
    {
     "name": "stdout",
     "output_type": "stream",
     "text": [
      "welcome to ATM\n",
      "Insufficient Balance.\n"
     ]
    }
   ],
   "source": [
    "print(\"welcome to ATM\")\n",
    "pin =input(\"enter_pin\")\n",
    "account_balance =(1505003)\n",
    "withdrawal_amount = int(input(\"enter amount\"))\n",
    "if withdrawal_amount % 5 != 0:\n",
    "    print(\"Enter amount in multiples of 5 \")\n",
    "elif  withdrawal_amount > account_balance :\n",
    "    print(\"Insufficient Balance.\")\n",
    "else:\n",
    "    account_balance -= withdrawal_amount\n",
    "    print(f\"Withdrawal successful. Remaining balance: {account_balance}\")\n"
   ]
  },
  {
   "cell_type": "code",
   "execution_count": 6,
   "id": "b37cdb9b",
   "metadata": {},
   "outputs": [],
   "source": [
    "#A cinema charges tickets based on age:\n",
    "\n",
    "#Children (<13) → Rs. 500\n",
    "\n",
    "#Teenagers (13–19) → Rs. 700\n",
    "\n",
    "#Adults (20–60) → Rs. 1000\n",
    "\n",
    "#Senior Citizens (>60) → Rs. 300\n",
    "\n",
    "#But if today is Sunday, all prices are reduced by 20%.\n",
    "#Write a program using if-else that asks for age and day and prints the ticket price.\n"
   ]
  },
  {
   "cell_type": "code",
   "execution_count": 30,
   "id": "ae129a57",
   "metadata": {},
   "outputs": [
    {
     "name": "stdout",
     "output_type": "stream",
     "text": [
      "500\n",
      "300\n",
      "0.0\n"
     ]
    }
   ],
   "source": [
    "children_price = int(500)\n",
    "teen_price = int(700)\n",
    "adults_price = int(1000)\n",
    "senior_price = int(300)\n",
    "age =int(input(\"enter your age\"))\n",
    "day = input(\"enter the day of week\")\n",
    "final_price = 0\n",
    "if age > 13:\n",
    "    final_price == children_price\n",
    "    print(children_price)\n",
    "elif  13<= age <20:\n",
    "    final_price == teen_price\n",
    "    print(teen_price)\n",
    "elif 20<= age >60:\n",
    "    final_price == adults_price\n",
    "    print(adults_price)\n",
    "else:age >60\n",
    "final_price == senior_price\n",
    "print(senior_price)\n",
    "\n",
    "discount_price = final_price\n",
    "if day == \"sunday\":\n",
    "    discount= (final_price * 0.20)\n",
    "    discount_price = final_price - discount\n",
    "    print(discount_price)"
   ]
  },
  {
   "cell_type": "code",
   "execution_count": null,
   "id": "67f6b161",
   "metadata": {},
   "outputs": [],
   "source": []
  }
 ],
 "metadata": {
  "kernelspec": {
   "display_name": "Python 3",
   "language": "python",
   "name": "python3"
  },
  "language_info": {
   "codemirror_mode": {
    "name": "ipython",
    "version": 3
   },
   "file_extension": ".py",
   "mimetype": "text/x-python",
   "name": "python",
   "nbconvert_exporter": "python",
   "pygments_lexer": "ipython3",
   "version": "3.13.7"
  }
 },
 "nbformat": 4,
 "nbformat_minor": 5
}
